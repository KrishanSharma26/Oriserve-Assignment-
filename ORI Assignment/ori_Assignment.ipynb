{
 "cells": [
  {
   "cell_type": "code",
   "execution_count": 34,
   "metadata": {},
   "outputs": [],
   "source": [
    "import pandas as pd\n",
    "import re\n",
    "import nltk\n"
   ]
  },
  {
   "cell_type": "code",
   "execution_count": 35,
   "metadata": {},
   "outputs": [],
   "source": [
    "from nltk.tokenize import word_tokenize\n",
    "from nltk.sentiment.vader import SentimentIntensityAnalyzer"
   ]
  },
  {
   "cell_type": "code",
   "execution_count": 36,
   "metadata": {},
   "outputs": [
    {
     "name": "stderr",
     "output_type": "stream",
     "text": [
      "[nltk_data] Downloading package punkt to\n",
      "[nltk_data]     C:\\Users\\User\\AppData\\Roaming\\nltk_data...\n",
      "[nltk_data]   Package punkt is already up-to-date!\n",
      "[nltk_data] Downloading package vader_lexicon to\n",
      "[nltk_data]     C:\\Users\\User\\AppData\\Roaming\\nltk_data...\n",
      "[nltk_data]   Package vader_lexicon is already up-to-date!\n"
     ]
    },
    {
     "data": {
      "text/plain": [
       "True"
      ]
     },
     "execution_count": 36,
     "metadata": {},
     "output_type": "execute_result"
    }
   ],
   "source": [
    "nltk.download('punkt')\n",
    "nltk.download('vader_lexicon')"
   ]
  },
  {
   "cell_type": "code",
   "execution_count": 37,
   "metadata": {},
   "outputs": [],
   "source": [
    "# Data Preprocessing\n",
    "# 1. Load the Dataset\n",
    "\n",
    "\n",
    "df = 'Evaluation-dataset.csv' \n",
    "data = pd.read_csv(df)\n"
   ]
  },
  {
   "cell_type": "code",
   "execution_count": 38,
   "metadata": {},
   "outputs": [
    {
     "name": "stdout",
     "output_type": "stream",
     "text": [
      "Columns dataset: Index(['Tires where delivered to the garage of my choice,the garage notified me when they had been delivered. A day and time was arranged with the garage and I went and had them fitted,a Hassel free experience.',\n",
      "       'garage service positive', 'ease of booking positive', 'Unnamed: 3',\n",
      "       'Unnamed: 4', 'Unnamed: 5', 'Unnamed: 6', 'Unnamed: 7', 'Unnamed: 8',\n",
      "       'Unnamed: 9', 'Unnamed: 10', 'Unnamed: 11', 'Unnamed: 12',\n",
      "       'Unnamed: 13', 'Unnamed: 14'],\n",
      "      dtype='object')\n"
     ]
    }
   ],
   "source": [
    "# determine the correct column name\n",
    "\n",
    "\n",
    "print(\"Columns dataset:\", data.columns)\n"
   ]
  },
  {
   "cell_type": "code",
   "execution_count": 39,
   "metadata": {},
   "outputs": [
    {
     "name": "stdout",
     "output_type": "stream",
     "text": [
      "Using 'Tires where delivered to the garage of my choice,the garage notified me when they had been delivered. A day and time was arranged with the garage and I went and had them fitted,a Hassel free experience.' as the review column.\n"
     ]
    }
   ],
   "source": [
    "# Assuming the first column contains the review text\n",
    "\n",
    "\n",
    "\n",
    "review_column = data.columns[0]\n",
    "\n",
    "print(f\"Using '{review_column}' as the review column.\")"
   ]
  },
  {
   "cell_type": "code",
   "execution_count": 40,
   "metadata": {},
   "outputs": [],
   "source": [
    "# Data Preprocessing\n",
    "# 2. Text Cleaning\n",
    "\n",
    "\n",
    "\n",
    "def clean_text(text):\n",
    "    text = text.lower()\n",
    "    text = re.sub(r'[^\\w\\s]', '', text)\n",
    "    return text"
   ]
  },
  {
   "cell_type": "code",
   "execution_count": 41,
   "metadata": {},
   "outputs": [],
   "source": [
    "# Data Preprocessing\n",
    "# 3. Applying Text Cleaning\n",
    "\n",
    "\n",
    "data['cleaned_text'] = data[review_column].apply(clean_text)\n",
    "data['tokens'] = data['cleaned_text'].apply(word_tokenize)\n",
    "\n"
   ]
  },
  {
   "cell_type": "code",
   "execution_count": 42,
   "metadata": {},
   "outputs": [],
   "source": [
    "# Subtheme Identification -  We identify subthemes by checking for the presence of predefined keywords (aspects and problems) in the tokenized text.\n",
    "# Define subthemes\n",
    "\n",
    "\n",
    "\n",
    "aspects = ['garage service', 'wait time']\n",
    "problems = ['incorrect tyres sent']"
   ]
  },
  {
   "cell_type": "code",
   "execution_count": 43,
   "metadata": {},
   "outputs": [],
   "source": [
    " # identify subthemes\n",
    "\n",
    "\n",
    "def identify_subthemes(tokens):\n",
    "    subthemes = {'aspects': [], 'problems': []}\n",
    "    text = ' '.join(tokens)\n",
    "    for aspect in aspects:\n",
    "        if aspect in text:\n",
    "            subthemes['aspects'].append(aspect)\n",
    "    for problem in problems:\n",
    "        if problem in text:\n",
    "            subthemes['problems'].append(problem)\n",
    "    return subthemes\n",
    "\n",
    "# Apply subtheme identification\n",
    "\n",
    "data['subthemes'] = data['tokens'].apply(identify_subthemes)"
   ]
  },
  {
   "cell_type": "code",
   "execution_count": 44,
   "metadata": {},
   "outputs": [],
   "source": [
    "# Sentiment Analysis: We use VADER to analyze the sentiment of each subtheme identified in the text.\n",
    "# Initialize SentimentIntensityAnalyzer\n",
    "\n",
    "sia = SentimentIntensityAnalyzer()"
   ]
  },
  {
   "cell_type": "code",
   "execution_count": 45,
   "metadata": {},
   "outputs": [],
   "source": [
    "\n",
    "# analyze sentiment   [ nltk.download('vader_lexicon')]\n",
    "\n",
    "\n",
    "def analyze_sentiment(subthemes, text):\n",
    "    sentiments = {}\n",
    "    for category, themes in subthemes.items():\n",
    "        for theme in themes:\n",
    "            if theme in text:\n",
    "                sentiment_score = sia.polarity_scores(theme + ' ' + text)['compound']\n",
    "                sentiment = 'positive' if sentiment_score > 0 else 'negative'\n",
    "                sentiments[theme] = sentiment\n",
    "    return sentiments"
   ]
  },
  {
   "cell_type": "code",
   "execution_count": 46,
   "metadata": {},
   "outputs": [],
   "source": [
    "# Apply sentiment analysis\n",
    "\n",
    "\n",
    "data['sentiments'] = data.apply(lambda row: analyze_sentiment(row['subthemes'], row['cleaned_text']), axis=1)"
   ]
  },
  {
   "cell_type": "code",
   "execution_count": 47,
   "metadata": {},
   "outputs": [
    {
     "name": "stdout",
     "output_type": "stream",
     "text": [
      "  Tires where delivered to the garage of my choice,the garage notified me when they had been delivered. A day and time was arranged with the garage and I went and had them fitted,a Hassel free experience.  \\\n",
      "0  Easy Tyre Selection Process, Competitive Prici...                                                                                                                                                           \n",
      "1         Very easy to use and good value for money.                                                                                                                                                           \n",
      "2              Really easy and convenient to arrange                                                                                                                                                           \n",
      "3  It was so easy to select tyre sizes and arrang...                                                                                                                                                           \n",
      "4  service was excellent. Only slight downside wa...                                                                                                                                                           \n",
      "\n",
      "                         subthemes sentiments  \n",
      "0  {'aspects': [], 'problems': []}         {}  \n",
      "1  {'aspects': [], 'problems': []}         {}  \n",
      "2  {'aspects': [], 'problems': []}         {}  \n",
      "3  {'aspects': [], 'problems': []}         {}  \n",
      "4  {'aspects': [], 'problems': []}         {}  \n"
     ]
    }
   ],
   "source": [
    "# Print Result\n",
    "\n",
    "\n",
    "result = data[[review_column, 'subthemes', 'sentiments']]\n",
    "print(result.head())"
   ]
  },
  {
   "cell_type": "code",
   "execution_count": 48,
   "metadata": {},
   "outputs": [
    {
     "name": "stdout",
     "output_type": "stream",
     "text": [
      "Results saved to 'Final_Solutions.csv'\n"
     ]
    }
   ],
   "source": [
    "# Final result in  a CSV file\n",
    "\n",
    "\n",
    "result.to_csv('Final_Solutions.csv', index=False)\n",
    "print(\"Results saved to 'Final_Solutions.csv'\")\n"
   ]
  }
 ],
 "metadata": {
  "kernelspec": {
   "display_name": "Python 3",
   "language": "python",
   "name": "python3"
  },
  "language_info": {
   "codemirror_mode": {
    "name": "ipython",
    "version": 3
   },
   "file_extension": ".py",
   "mimetype": "text/x-python",
   "name": "python",
   "nbconvert_exporter": "python",
   "pygments_lexer": "ipython3",
   "version": "3.12.2"
  }
 },
 "nbformat": 4,
 "nbformat_minor": 2
}
